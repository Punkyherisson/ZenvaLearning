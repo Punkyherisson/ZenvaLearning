{
 "cells": [
  {
   "cell_type": "code",
   "execution_count": 1,
   "id": "173459f2",
   "metadata": {},
   "outputs": [
    {
     "name": "stdout",
     "output_type": "stream",
     "text": [
      "Hello world!\n"
     ]
    }
   ],
   "source": [
    "# 2. Intro to Repl.it\n",
    "print(\"Hello world!\")\n"
   ]
  },
  {
   "cell_type": "code",
   "execution_count": 2,
   "id": "b2f3bf93",
   "metadata": {},
   "outputs": [
    {
     "name": "stdout",
     "output_type": "stream",
     "text": [
      "27\n",
      "<class 'int'>\n"
     ]
    }
   ],
   "source": [
    "# 3. Numbers and booleans\n",
    "position = 27\n",
    "pi = 3.14\n",
    "is_game_over = False\n",
    "print(position)\n",
    "print(type(position))\n"
   ]
  },
  {
   "cell_type": "markdown",
   "id": "bd1766d0",
   "metadata": {},
   "source": [
    "# 4. Strings\n",
    "hello_text = \"Hello world!\"\n",
    "name = 'Nimish'\n",
    "print(hello_text)\n",
    "print(len(name))"
   ]
  },
  {
   "cell_type": "code",
   "execution_count": null,
   "id": "e75581e4",
   "metadata": {},
   "outputs": [],
   "source": [
    "\n",
    "# 5. Arithmetic and assignment operators\n",
    "# Operators: = + - * / % // **\n",
    "position = 5\n",
    "forwards = position + 1\n",
    "backwards = position - 1\n",
    "position += 1\n",
    "print(position)\n"
   ]
  },
  {
   "cell_type": "code",
   "execution_count": null,
   "id": "b376a59a",
   "metadata": {},
   "outputs": [],
   "source": []
  },
  {
   "cell_type": "code",
   "execution_count": null,
   "id": "5979280c",
   "metadata": {},
   "outputs": [],
   "source": [
    "# 6. Comparison operators and logical\n",
    "# Operators: > >= < <= == != not or and\n",
    "is_at_end = position == 10\n",
    "is_past_halfway = position >= 5\n",
    "is_game_over = not is_game_over\n",
    "points = 10\n",
    "is_game_over = points >= 10 and is_at_end\n",
    "print(is_game_over)"
   ]
  },
  {
   "cell_type": "code",
   "execution_count": null,
   "id": "352d0dd3",
   "metadata": {},
   "outputs": [],
   "source": [
    "\n",
    "# 7. Lists\n",
    "enemy_positions = [5, 10, 15]\n",
    "first_position = enemy_positions[0]\n",
    "enemy_positions[1] = 12\n",
    "enemy_positions.append(20)\n",
    "del(enemy_positions[1])\n",
    "print(len(enemy_positions))\n",
    "print(enemy_positions)"
   ]
  },
  {
   "cell_type": "code",
   "execution_count": null,
   "id": "bc3eb737",
   "metadata": {},
   "outputs": [],
   "source": [
    "\n",
    "# 8. Tuples\n",
    "high_score = (\"Nimish\", 100)\n",
    "high_score = (\"Holly\", 120)\n",
    "print(len(high_score))"
   ]
  },
  {
   "cell_type": "code",
   "execution_count": null,
   "id": "78d12ce7",
   "metadata": {},
   "outputs": [],
   "source": [
    "\n",
    "# 9. Dictionaries\n",
    "actions = {\"r\": 1, \"l\": -1}\n",
    "right = actions[\"r\"]\n",
    "actions[\"u\"] = 1\n",
    "print(actions)"
   ]
  },
  {
   "cell_type": "code",
   "execution_count": null,
   "id": "9b2d654f",
   "metadata": {},
   "outputs": [],
   "source": [
    "# 10. If statements\n",
    "action = \"r\"\n",
    "if action == \"r\":\n",
    "  print(\"Move right\")\n",
    "elif action == \"l\":\n",
    "  print(\"Move left\")\n",
    "else:\n",
    "  print(\"Invalid key\")"
   ]
  },
  {
   "cell_type": "code",
   "execution_count": null,
   "id": "8a8f4d6e",
   "metadata": {},
   "outputs": [],
   "source": [
    "# 11. While loops\n",
    "position = 0\n",
    "end_position = 5\n",
    "while position < end_position:\n",
    "  print(position)\n",
    "  position += 1\n",
    "print(\"You've reached the end!\")"
   ]
  },
  {
   "cell_type": "code",
   "execution_count": null,
   "id": "e8f9e91e",
   "metadata": {},
   "outputs": [],
   "source": [
    "\n",
    "# 12. For in loops\n",
    "for action in actions:\n",
    "  print(action)"
   ]
  },
  {
   "cell_type": "code",
   "execution_count": null,
   "id": "f209f483",
   "metadata": {},
   "outputs": [],
   "source": [
    "# 13. Functions\n",
    "position = 0\n",
    "def move_player():\n",
    "  global position\n",
    "  position += 1\n",
    "move_player()\n",
    "print(position)"
   ]
  },
  {
   "cell_type": "code",
   "execution_count": null,
   "id": "e0a4724f",
   "metadata": {},
   "outputs": [],
   "source": [
    "# 14. Function parameters\n",
    "def move_player(by_amount):\n",
    "  global position\n",
    "  position += by_amount\n",
    "move_player(5)\n",
    "print(position)"
   ]
  },
  {
   "cell_type": "code",
   "execution_count": null,
   "id": "3973f449",
   "metadata": {},
   "outputs": [],
   "source": [
    "# 15. Return values\n",
    "def move_player(position, by_amount):\n",
    "  return position + by_amount\n",
    "position = move_player(0, 5)"
   ]
  },
  {
   "cell_type": "code",
   "execution_count": null,
   "id": "34a044ff",
   "metadata": {},
   "outputs": [],
   "source": [
    "\n",
    "# 16. Intro to classes and objects\n",
    "class GameObject:\n",
    "  def __init__(self, name, x_pos, y_pos):\n",
    "    self.name = name\n",
    "    self.x_pos = x_pos\n",
    "    self.y_pos = y_pos\n",
    "  def move(self, by_x_amount, by_y_amount):\n",
    "    self.x_pos += by_x_amount\n",
    "    self.y_pos += by_y_amount\n",
    "game_object = GameObject(\"Enemy\", 1, 2)\n",
    "game_object.move(5, 6)\n",
    "print(game_object.name)"
   ]
  },
  {
   "cell_type": "code",
   "execution_count": null,
   "id": "22e03600",
   "metadata": {},
   "outputs": [],
   "source": [
    "\n",
    "# 17. Inheritance:\n",
    "class Enemy(GameObject):\n",
    "  def __init__(self, name, x_pos, y_pos, health):\n",
    "    super().__init__(name, x_pos, y_pos)\n",
    "    self.health = health\n",
    "  def take_damage(self, amount):\n",
    "    self.health -= amount\n",
    "    if self.health < 0:\n",
    "      return\n",
    "enemy = Enemy(\"Enemy 1\", 5, 10, 100)\n",
    "enemy.take_damage(20)\n",
    "print(enemy.health)"
   ]
  }
 ],
 "metadata": {
  "kernelspec": {
   "display_name": "Python 3",
   "language": "python",
   "name": "python3"
  },
  "language_info": {
   "codemirror_mode": {
    "name": "ipython",
    "version": 3
   },
   "file_extension": ".py",
   "mimetype": "text/x-python",
   "name": "python",
   "nbconvert_exporter": "python",
   "pygments_lexer": "ipython3",
   "version": "3.12.0"
  }
 },
 "nbformat": 4,
 "nbformat_minor": 5
}
